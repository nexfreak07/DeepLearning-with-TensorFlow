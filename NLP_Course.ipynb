{
  "nbformat": 4,
  "nbformat_minor": 0,
  "metadata": {
    "accelerator": "GPU",
    "colab": {
      "name": "NLP Course - Week 3 Exercise Question.ipynb",
      "provenance": [],
      "toc_visible": true
    },
    "kernelspec": {
      "display_name": "Python 3",
      "name": "python3"
    }
  },
  "cells": [
    {
      "cell_type": "code",
      "metadata": {
        "id": "zX4Kg8DUTKWO"
      },
      "source": [
        "#@title Licensed under the Apache License, Version 2.0 (the \"License\");\n",
        "# you may not use this file except in compliance with the License.\n",
        "# You may obtain a copy of the License at\n",
        "#\n",
        "# https://www.apache.org/licenses/LICENSE-2.0\n",
        "#\n",
        "# Unless required by applicable law or agreed to in writing, software\n",
        "# distributed under the License is distributed on an \"AS IS\" BASIS,\n",
        "# WITHOUT WARRANTIES OR CONDITIONS OF ANY KIND, either express or implied.\n",
        "# See the License for the specific language governing permissions and\n",
        "# limitations under the License."
      ],
      "execution_count": null,
      "outputs": []
    },
    {
      "cell_type": "code",
      "metadata": {
        "id": "hmA6EzkQJ5jt"
      },
      "source": [
        "import json\n",
        "import tensorflow as tf\n",
        "import csv\n",
        "import random\n",
        "import numpy as np\n",
        "\n",
        "from tensorflow.keras.preprocessing.text import Tokenizer\n",
        "from tensorflow.keras.preprocessing.sequence import pad_sequences\n",
        "from tensorflow.keras.utils import to_categorical\n",
        "from tensorflow.keras import regularizers\n",
        "\n",
        "\n",
        "embedding_dim = 100\n",
        "max_length = 16\n",
        "trunc_type='post'\n",
        "padding_type='post'\n",
        "oov_tok = \"<OOV>\"\n",
        "training_size=160000\n",
        "test_portion=.1\n",
        "\n",
        "corpus = []\n"
      ],
      "execution_count": 2,
      "outputs": []
    },
    {
      "cell_type": "code",
      "metadata": {
        "colab": {
          "base_uri": "https://localhost:8080/"
        },
        "id": "bM0l_dORKqE0",
        "outputId": "c0c16e4f-1e90-4323-c3b8-f27b8470f752"
      },
      "source": [
        "# Note that I cleaned the Stanford dataset to remove LATIN1 encoding to make it easier for Python CSV reader\n",
        "# You can do that yourself with:\n",
        "# iconv -f LATIN1 -t UTF8 training.1600000.processed.noemoticon.csv -o training_cleaned.csv\n",
        "# I then hosted it on my site to make it easier to use in this notebook\n",
        "\n",
        "!wget --no-check-certificate \\\n",
        "    https://storage.googleapis.com/laurencemoroney-blog.appspot.com/training_cleaned.csv \\\n",
        "    -O /tmp/training_cleaned.csv\n",
        "\n",
        "num_sentences = 0\n",
        "\n",
        "with open(\"/tmp/training_cleaned.csv\") as csvfile:\n",
        "    reader = csv.reader(csvfile, delimiter=',')\n",
        "    for row in reader:\n",
        "      # Your Code here. Create list items where the first item is the text, found in row[5], and the second is the label. Note that the label is a '0' or a '4' in the text. When it's the former, make\n",
        "      # your label to be 0, otherwise 1. Keep a count of the number of sentences in num_sentences\n",
        "        list_item=[]\n",
        "        # YOUR CODE HERE\n",
        "        list_item.append(row[5])\n",
        "        this_label = row[0]\n",
        "        if this_label =='0':\n",
        "          list_item.append(0)\n",
        "        else:\n",
        "          list_item.append(1)  \n",
        "        num_sentences = num_sentences + 1\n",
        "        corpus.append(list_item)\n"
      ],
      "execution_count": 3,
      "outputs": [
        {
          "output_type": "stream",
          "text": [
            "--2021-01-07 10:07:31--  https://storage.googleapis.com/laurencemoroney-blog.appspot.com/training_cleaned.csv\n",
            "Resolving storage.googleapis.com (storage.googleapis.com)... 74.125.203.128, 64.233.189.128, 108.177.97.128, ...\n",
            "Connecting to storage.googleapis.com (storage.googleapis.com)|74.125.203.128|:443... connected.\n",
            "HTTP request sent, awaiting response... 200 OK\n",
            "Length: 238942690 (228M) [application/octet-stream]\n",
            "Saving to: ‘/tmp/training_cleaned.csv’\n",
            "\n",
            "/tmp/training_clean 100%[===================>] 227.87M  22.4MB/s    in 10s     \n",
            "\n",
            "2021-01-07 10:07:43 (22.4 MB/s) - ‘/tmp/training_cleaned.csv’ saved [238942690/238942690]\n",
            "\n"
          ],
          "name": "stdout"
        }
      ]
    },
    {
      "cell_type": "code",
      "metadata": {
        "colab": {
          "base_uri": "https://localhost:8080/"
        },
        "id": "3kxblBUjEUX-",
        "outputId": "4c079257-4dd5-42b8-ad8b-bb736d2554f3"
      },
      "source": [
        "print(num_sentences)\n",
        "print(len(corpus))\n",
        "print(corpus[1])\n",
        "\n",
        "# Expected Output:\n",
        "# 1600000\n",
        "# 1600000\n",
        "# [\"is upset that he can't update his Facebook by texting it... and might cry as a result  School today also. Blah!\", 0]"
      ],
      "execution_count": 4,
      "outputs": [
        {
          "output_type": "stream",
          "text": [
            "1600000\n",
            "1600000\n",
            "[\"is upset that he can't update his Facebook by texting it... and might cry as a result  School today also. Blah!\", 0]\n"
          ],
          "name": "stdout"
        }
      ]
    },
    {
      "cell_type": "code",
      "metadata": {
        "id": "ohOGz24lsNAD"
      },
      "source": [
        "sentences=[]\n",
        "labels=[]\n",
        "random.shuffle(corpus)\n",
        "for x in range(training_size):\n",
        "    sentences.append(corpus[x][0])\n",
        "    labels.append(corpus[x][1])\n",
        "\n",
        "\n",
        "tokenizer = Tokenizer()\n",
        "tokenizer.fit_on_texts(sentences)\n",
        "\n",
        "word_index = tokenizer.word_index\n",
        "vocab_size=len(word_index)\n",
        "\n",
        "sequences = tokenizer.texts_to_sequences(sentences)\n",
        "padded = pad_sequences(sequences,maxlen=max_length,padding=padding_type,truncating=trunc_type)\n",
        "\n",
        "split = int(test_portion * training_size)\n",
        "\n",
        "test_sequences = padded[0:split]\n",
        "training_sequences = padded[split:training_size]\n",
        "test_labels = labels[0:split]\n",
        "training_labels = labels[split:training_size]"
      ],
      "execution_count": 5,
      "outputs": []
    },
    {
      "cell_type": "code",
      "metadata": {
        "colab": {
          "base_uri": "https://localhost:8080/"
        },
        "id": "gIrtRem1En3N",
        "outputId": "1d95a814-d8c8-4dab-ed69-f913f048dd79"
      },
      "source": [
        "print(vocab_size)\n",
        "print(word_index['i'])\n",
        "# Expected Output\n",
        "# 138858\n",
        "# 1"
      ],
      "execution_count": 6,
      "outputs": [
        {
          "output_type": "stream",
          "text": [
            "138778\n",
            "1\n"
          ],
          "name": "stdout"
        }
      ]
    },
    {
      "cell_type": "code",
      "metadata": {
        "colab": {
          "base_uri": "https://localhost:8080/"
        },
        "id": "C1zdgJkusRh0",
        "outputId": "c808c80e-c353-4ea7-8efd-40e12126a809"
      },
      "source": [
        "# Note this is the 100 dimension version of GloVe from Stanford\n",
        "# I unzipped and hosted it on my site to make this notebook easier\n",
        "!wget --no-check-certificate \\\n",
        "    https://storage.googleapis.com/laurencemoroney-blog.appspot.com/glove.6B.100d.txt \\\n",
        "    -O /tmp/glove.6B.100d.txt\n",
        "embeddings_index = {};\n",
        "with open('/tmp/glove.6B.100d.txt') as f:\n",
        "    for line in f:\n",
        "        values = line.split();\n",
        "        word = values[0];\n",
        "        coefs = np.asarray(values[1:], dtype='float32');\n",
        "        embeddings_index[word] = coefs;\n",
        "\n",
        "embeddings_matrix = np.zeros((vocab_size+1, embedding_dim));\n",
        "for word, i in word_index.items():\n",
        "    embedding_vector = embeddings_index.get(word);\n",
        "    if embedding_vector is not None:\n",
        "        embeddings_matrix[i] = embedding_vector;"
      ],
      "execution_count": 7,
      "outputs": [
        {
          "output_type": "stream",
          "text": [
            "--2021-01-07 10:12:51--  https://storage.googleapis.com/laurencemoroney-blog.appspot.com/glove.6B.100d.txt\n",
            "Resolving storage.googleapis.com (storage.googleapis.com)... 74.125.204.128, 64.233.188.128, 64.233.189.128, ...\n",
            "Connecting to storage.googleapis.com (storage.googleapis.com)|74.125.204.128|:443... connected.\n",
            "HTTP request sent, awaiting response... 200 OK\n",
            "Length: 347116733 (331M) [text/plain]\n",
            "Saving to: ‘/tmp/glove.6B.100d.txt’\n",
            "\n",
            "/tmp/glove.6B.100d. 100%[===================>] 331.04M  22.5MB/s    in 16s     \n",
            "\n",
            "2021-01-07 10:13:09 (20.9 MB/s) - ‘/tmp/glove.6B.100d.txt’ saved [347116733/347116733]\n",
            "\n"
          ],
          "name": "stdout"
        }
      ]
    },
    {
      "cell_type": "code",
      "metadata": {
        "colab": {
          "base_uri": "https://localhost:8080/"
        },
        "id": "71NLk_lpFLNt",
        "outputId": "1074f7fc-bf80-4932-ec64-7b03ac1bcba1"
      },
      "source": [
        "print(len(embeddings_matrix))\n",
        "# Expected Output\n",
        "# 138859"
      ],
      "execution_count": 8,
      "outputs": [
        {
          "output_type": "stream",
          "text": [
            "138779\n"
          ],
          "name": "stdout"
        }
      ]
    },
    {
      "cell_type": "code",
      "metadata": {
        "colab": {
          "base_uri": "https://localhost:8080/"
        },
        "id": "iKKvbuEBOGFz",
        "outputId": "adfd27f9-3415-4163-a05a-213a4f36fcc2"
      },
      "source": [
        "model = tf.keras.Sequential([\n",
        "    tf.keras.layers.Embedding(vocab_size+1, embedding_dim, input_length=max_length, weights=[embeddings_matrix], trainable=False),\n",
        "    # YOUR CODE HERE - experiment with combining different types, such as convolutions and LSTMs\n",
        "    tf.keras.layers.Dropout(0.2),\n",
        "    tf.keras.layers.Conv1D(64,5,activation='relu'),\n",
        "    tf.keras.layers.MaxPooling1D(pool_size=4),\n",
        "    tf.keras.layers.LSTM(64),\n",
        "    tf.keras.layers.Dense(1,activation='sigmoid')\n",
        "])\n",
        "model.compile(loss='binary_crossentropy', optimizer='adam',metrics=['accuracy'])\n",
        "model.summary()\n",
        "training_padded = np.array(training_sequences)\n",
        "training_labels = np.array(training_labels)\n",
        "testing_padded = np.array(test_sequences)\n",
        "testing_labels = np.array(test_labels)\n",
        "\n",
        "num_epochs = 50\n",
        "history = model.fit(training_padded, training_labels, epochs=num_epochs, validation_data=(testing_padded, testing_labels), verbose=2)\n",
        "\n",
        "print(\"Training Complete\")\n"
      ],
      "execution_count": 13,
      "outputs": [
        {
          "output_type": "stream",
          "text": [
            "Model: \"sequential_3\"\n",
            "_________________________________________________________________\n",
            "Layer (type)                 Output Shape              Param #   \n",
            "=================================================================\n",
            "embedding_4 (Embedding)      (None, 16, 100)           13877900  \n",
            "_________________________________________________________________\n",
            "dropout_4 (Dropout)          (None, 16, 100)           0         \n",
            "_________________________________________________________________\n",
            "conv1d_4 (Conv1D)            (None, 12, 64)            32064     \n",
            "_________________________________________________________________\n",
            "max_pooling1d_4 (MaxPooling1 (None, 3, 64)             0         \n",
            "_________________________________________________________________\n",
            "lstm_3 (LSTM)                (None, 64)                33024     \n",
            "_________________________________________________________________\n",
            "dense_3 (Dense)              (None, 1)                 65        \n",
            "=================================================================\n",
            "Total params: 13,943,053\n",
            "Trainable params: 65,153\n",
            "Non-trainable params: 13,877,900\n",
            "_________________________________________________________________\n",
            "Epoch 1/50\n",
            "4500/4500 - 25s - loss: 0.5688 - accuracy: 0.6987 - val_loss: 0.5259 - val_accuracy: 0.7301\n",
            "Epoch 2/50\n",
            "4500/4500 - 17s - loss: 0.5269 - accuracy: 0.7333 - val_loss: 0.5198 - val_accuracy: 0.7325\n",
            "Epoch 3/50\n",
            "4500/4500 - 17s - loss: 0.5102 - accuracy: 0.7458 - val_loss: 0.5056 - val_accuracy: 0.7470\n",
            "Epoch 4/50\n",
            "4500/4500 - 17s - loss: 0.4993 - accuracy: 0.7528 - val_loss: 0.5076 - val_accuracy: 0.7449\n",
            "Epoch 5/50\n",
            "4500/4500 - 17s - loss: 0.4902 - accuracy: 0.7591 - val_loss: 0.5104 - val_accuracy: 0.7380\n",
            "Epoch 6/50\n",
            "4500/4500 - 17s - loss: 0.4825 - accuracy: 0.7641 - val_loss: 0.5055 - val_accuracy: 0.7498\n",
            "Epoch 7/50\n",
            "4500/4500 - 17s - loss: 0.4778 - accuracy: 0.7663 - val_loss: 0.5021 - val_accuracy: 0.7486\n",
            "Epoch 8/50\n",
            "4500/4500 - 17s - loss: 0.4740 - accuracy: 0.7696 - val_loss: 0.4987 - val_accuracy: 0.7499\n",
            "Epoch 9/50\n",
            "4500/4500 - 17s - loss: 0.4696 - accuracy: 0.7713 - val_loss: 0.5016 - val_accuracy: 0.7467\n",
            "Epoch 10/50\n",
            "4500/4500 - 17s - loss: 0.4634 - accuracy: 0.7745 - val_loss: 0.5073 - val_accuracy: 0.7483\n",
            "Epoch 11/50\n",
            "4500/4500 - 17s - loss: 0.4619 - accuracy: 0.7780 - val_loss: 0.5061 - val_accuracy: 0.7502\n",
            "Epoch 12/50\n",
            "4500/4500 - 17s - loss: 0.4575 - accuracy: 0.7806 - val_loss: 0.5039 - val_accuracy: 0.7524\n",
            "Epoch 13/50\n",
            "4500/4500 - 17s - loss: 0.4556 - accuracy: 0.7808 - val_loss: 0.5075 - val_accuracy: 0.7534\n",
            "Epoch 14/50\n",
            "4500/4500 - 17s - loss: 0.4540 - accuracy: 0.7818 - val_loss: 0.5120 - val_accuracy: 0.7490\n",
            "Epoch 15/50\n",
            "4500/4500 - 17s - loss: 0.4507 - accuracy: 0.7831 - val_loss: 0.5168 - val_accuracy: 0.7499\n",
            "Epoch 16/50\n",
            "4500/4500 - 17s - loss: 0.4480 - accuracy: 0.7852 - val_loss: 0.5130 - val_accuracy: 0.7507\n",
            "Epoch 17/50\n",
            "4500/4500 - 17s - loss: 0.4476 - accuracy: 0.7855 - val_loss: 0.5063 - val_accuracy: 0.7497\n",
            "Epoch 18/50\n",
            "4500/4500 - 17s - loss: 0.4468 - accuracy: 0.7859 - val_loss: 0.5100 - val_accuracy: 0.7488\n",
            "Epoch 19/50\n",
            "4500/4500 - 17s - loss: 0.4434 - accuracy: 0.7878 - val_loss: 0.5127 - val_accuracy: 0.7465\n",
            "Epoch 20/50\n",
            "4500/4500 - 17s - loss: 0.4428 - accuracy: 0.7875 - val_loss: 0.5219 - val_accuracy: 0.7466\n",
            "Epoch 21/50\n",
            "4500/4500 - 17s - loss: 0.4414 - accuracy: 0.7880 - val_loss: 0.5135 - val_accuracy: 0.7498\n",
            "Epoch 22/50\n",
            "4500/4500 - 17s - loss: 0.4390 - accuracy: 0.7902 - val_loss: 0.5268 - val_accuracy: 0.7428\n",
            "Epoch 23/50\n",
            "4500/4500 - 17s - loss: 0.4377 - accuracy: 0.7918 - val_loss: 0.5160 - val_accuracy: 0.7494\n",
            "Epoch 24/50\n",
            "4500/4500 - 17s - loss: 0.4389 - accuracy: 0.7892 - val_loss: 0.5173 - val_accuracy: 0.7454\n",
            "Epoch 25/50\n",
            "4500/4500 - 17s - loss: 0.4373 - accuracy: 0.7905 - val_loss: 0.5236 - val_accuracy: 0.7461\n",
            "Epoch 26/50\n",
            "4500/4500 - 17s - loss: 0.4368 - accuracy: 0.7923 - val_loss: 0.5160 - val_accuracy: 0.7494\n",
            "Epoch 27/50\n",
            "4500/4500 - 17s - loss: 0.4347 - accuracy: 0.7921 - val_loss: 0.5225 - val_accuracy: 0.7447\n",
            "Epoch 28/50\n",
            "4500/4500 - 17s - loss: 0.4345 - accuracy: 0.7924 - val_loss: 0.5160 - val_accuracy: 0.7462\n",
            "Epoch 29/50\n",
            "4500/4500 - 17s - loss: 0.4348 - accuracy: 0.7924 - val_loss: 0.5193 - val_accuracy: 0.7449\n",
            "Epoch 30/50\n",
            "4500/4500 - 17s - loss: 0.4340 - accuracy: 0.7939 - val_loss: 0.5222 - val_accuracy: 0.7450\n",
            "Epoch 31/50\n",
            "4500/4500 - 16s - loss: 0.4327 - accuracy: 0.7939 - val_loss: 0.5292 - val_accuracy: 0.7464\n",
            "Epoch 32/50\n",
            "4500/4500 - 17s - loss: 0.4322 - accuracy: 0.7951 - val_loss: 0.5173 - val_accuracy: 0.7467\n",
            "Epoch 33/50\n",
            "4500/4500 - 17s - loss: 0.4319 - accuracy: 0.7943 - val_loss: 0.5252 - val_accuracy: 0.7470\n",
            "Epoch 34/50\n",
            "4500/4500 - 16s - loss: 0.4314 - accuracy: 0.7947 - val_loss: 0.5233 - val_accuracy: 0.7469\n",
            "Epoch 35/50\n",
            "4500/4500 - 16s - loss: 0.4301 - accuracy: 0.7947 - val_loss: 0.5239 - val_accuracy: 0.7462\n",
            "Epoch 36/50\n",
            "4500/4500 - 16s - loss: 0.4312 - accuracy: 0.7945 - val_loss: 0.5193 - val_accuracy: 0.7482\n",
            "Epoch 37/50\n",
            "4500/4500 - 17s - loss: 0.4296 - accuracy: 0.7963 - val_loss: 0.5227 - val_accuracy: 0.7462\n",
            "Epoch 38/50\n",
            "4500/4500 - 17s - loss: 0.4287 - accuracy: 0.7964 - val_loss: 0.5206 - val_accuracy: 0.7474\n",
            "Epoch 39/50\n",
            "4500/4500 - 16s - loss: 0.4269 - accuracy: 0.7972 - val_loss: 0.5289 - val_accuracy: 0.7473\n",
            "Epoch 40/50\n",
            "4500/4500 - 17s - loss: 0.4275 - accuracy: 0.7970 - val_loss: 0.5233 - val_accuracy: 0.7437\n",
            "Epoch 41/50\n",
            "4500/4500 - 16s - loss: 0.4300 - accuracy: 0.7964 - val_loss: 0.5297 - val_accuracy: 0.7470\n",
            "Epoch 42/50\n",
            "4500/4500 - 16s - loss: 0.4275 - accuracy: 0.7973 - val_loss: 0.5286 - val_accuracy: 0.7469\n",
            "Epoch 43/50\n",
            "4500/4500 - 16s - loss: 0.4265 - accuracy: 0.7981 - val_loss: 0.5286 - val_accuracy: 0.7459\n",
            "Epoch 44/50\n",
            "4500/4500 - 17s - loss: 0.4270 - accuracy: 0.7976 - val_loss: 0.5278 - val_accuracy: 0.7470\n",
            "Epoch 45/50\n",
            "4500/4500 - 16s - loss: 0.4273 - accuracy: 0.7979 - val_loss: 0.5245 - val_accuracy: 0.7450\n",
            "Epoch 46/50\n",
            "4500/4500 - 16s - loss: 0.4269 - accuracy: 0.7980 - val_loss: 0.5292 - val_accuracy: 0.7461\n",
            "Epoch 47/50\n",
            "4500/4500 - 16s - loss: 0.4268 - accuracy: 0.7977 - val_loss: 0.5244 - val_accuracy: 0.7441\n",
            "Epoch 48/50\n",
            "4500/4500 - 16s - loss: 0.4266 - accuracy: 0.7974 - val_loss: 0.5210 - val_accuracy: 0.7503\n",
            "Epoch 49/50\n",
            "4500/4500 - 17s - loss: 0.4258 - accuracy: 0.7983 - val_loss: 0.5292 - val_accuracy: 0.7473\n",
            "Epoch 50/50\n",
            "4500/4500 - 17s - loss: 0.4265 - accuracy: 0.7978 - val_loss: 0.5271 - val_accuracy: 0.7457\n",
            "Training Complete\n"
          ],
          "name": "stdout"
        }
      ]
    },
    {
      "cell_type": "code",
      "metadata": {
        "colab": {
          "base_uri": "https://localhost:8080/",
          "height": 607
        },
        "id": "qxju4ItJKO8F",
        "outputId": "ab130f31-a751-412b-e1af-de97ae002e17"
      },
      "source": [
        "import matplotlib.image  as mpimg\n",
        "import matplotlib.pyplot as plt\n",
        "\n",
        "#-----------------------------------------------------------\n",
        "# Retrieve a list of list results on training and test data\n",
        "# sets for each training epoch\n",
        "#-----------------------------------------------------------\n",
        "acc=history.history['accuracy']\n",
        "val_acc=history.history['val_accuracy']\n",
        "loss=history.history['loss']\n",
        "val_loss=history.history['val_loss']\n",
        "\n",
        "epochs=range(len(acc)) # Get number of epochs\n",
        "\n",
        "#------------------------------------------------\n",
        "# Plot training and validation accuracy per epoch\n",
        "#------------------------------------------------\n",
        "plt.plot(epochs, acc, 'r')\n",
        "plt.plot(epochs, val_acc, 'b')\n",
        "plt.title('Training and validation accuracy')\n",
        "plt.xlabel(\"Epochs\")\n",
        "plt.ylabel(\"Accuracy\")\n",
        "plt.legend([\"Accuracy\", \"Validation Accuracy\"])\n",
        "\n",
        "plt.figure()\n",
        "\n",
        "#------------------------------------------------\n",
        "# Plot training and validation loss per epoch\n",
        "#------------------------------------------------\n",
        "plt.plot(epochs, loss, 'r')\n",
        "plt.plot(epochs, val_loss, 'b')\n",
        "plt.title('Training and validation loss')\n",
        "plt.xlabel(\"Epochs\")\n",
        "plt.ylabel(\"Loss\")\n",
        "plt.legend([\"Loss\", \"Validation Loss\"])\n",
        "\n",
        "plt.figure()\n",
        "\n",
        "\n",
        "# Expected Output\n",
        "# A chart where the validation loss does not increase sharply!"
      ],
      "execution_count": 14,
      "outputs": [
        {
          "output_type": "execute_result",
          "data": {
            "text/plain": [
              "<Figure size 432x288 with 0 Axes>"
            ]
          },
          "metadata": {
            "tags": []
          },
          "execution_count": 14
        },
        {
          "output_type": "display_data",
          "data": {
            "image/png": "[encoded data removed]",
            "text/plain": [
              "<Figure size 432x288 with 1 Axes>"
            ]
          },
          "metadata": {
            "tags": [],
            "needs_background": "light"
          }
        },
        {
          "output_type": "display_data",
          "data": {
            "image/png": "[encoded data removed]",
            "text/plain": [
              "<Figure size 432x288 with 1 Axes>"
            ]
          },
          "metadata": {
            "tags": [],
            "needs_background": "light"
          }
        },
        {
          "output_type": "display_data",
          "data": {
            "text/plain": [
              "<Figure size 432x288 with 0 Axes>"
            ]
          },
          "metadata": {
            "tags": []
          }
        }
      ]
    }
  ]
}